{
  "nbformat": 4,
  "nbformat_minor": 0,
  "metadata": {
    "colab": {
      "name": "main.ipynb",
      "provenance": [],
      "collapsed_sections": []
    },
    "kernelspec": {
      "name": "python3",
      "display_name": "Python 3"
    },
    "language_info": {
      "name": "python"
    }
  },
  "cells": [
    {
      "cell_type": "code",
      "metadata": {
        "id": "z6kLt0MnHfKO"
      },
      "source": [
        "import sympy as sym\n",
        "import scipy.signal as ss\n",
        "import matplotlib.pyplot as plt\n",
        "import numpy as np"
      ],
      "execution_count": 28,
      "outputs": []
    },
    {
      "cell_type": "code",
      "metadata": {
        "id": "QuTBZDYuHeq8"
      },
      "source": [
        "def maxZP(H):\n",
        "    zeroes, poles, gain=ss.tf2zpk(H.num, H.den)\n",
        "    zMax=abs(max(zeroes, default=0))\n",
        "    pMax=abs(min(poles, default=0))\n",
        "    \n",
        "    if zMax > pMax:\n",
        "      if zMax==0:\n",
        "        return 3\n",
        "      return np.ceil(np.log10(zMax))+2\n",
        "    \n",
        "    else:\n",
        "      if pMax==0:\n",
        "        return 3\n",
        "      return np.ceil(np.log10(pMax))+2\n",
        "\n",
        "def plotbode(H, fig, ylim = None):\n",
        "    \n",
        "    xlim = maxZP(H)   # Cálculo de la máxima frec representativa\n",
        "\n",
        "    w = np.logspace(-4, xlim, 10000)       # Revisar para graficar facha\n",
        "    bode = ss.bode(H, w=w)            # Calculo del Bode\n",
        "\n",
        "    # Creamos las figuras\n",
        "    #fig = plt.figure(figsize = (13, 4))\n",
        "    mag, phase = fig.add_subplot(1,2,1), fig.add_subplot(1, 2, 2)\n",
        "    ejeX = bode[0] / (2*np.pi)\n",
        "    mag.plot(ejeX, bode[1])\n",
        "    phase.plot(ejeX, bode[2])\n",
        "\n",
        "    # Ponemos comentarios\n",
        "    fig.suptitle('Diagrama de Bode')\n",
        "    mag.set_title('Magnitud')\n",
        "    phase.set_title('Fase')\n",
        "    mag.set_xlabel(r'f [$Hz$] | log')\n",
        "    phase.set_xlabel(r'f [$Hz$] | log')\n",
        "    mag.set_ylabel(r'|H(j$\\omega$)| [dB]')\n",
        "    phase.set_ylabel(r'Phase [deg]')\n",
        "\n",
        "    # Pasamos a escala logaritmica \n",
        "    mag.set_xscale('log') \n",
        "    phase.set_xscale('log')\n",
        "    \n",
        "    # Graficamos\n",
        "    mag.grid(); phase.grid(); mag.set_ylim(None if not ylim else [-125, 5])\n",
        "    fig.subplots_adjust(wspace = .4)"
      ],
      "execution_count": 29,
      "outputs": []
    },
    {
      "cell_type": "code",
      "metadata": {
        "id": "ULk3RUWH0GGu"
      },
      "source": [
        "def filterImpulse(H, u,  figure, w=1, A=1):\n",
        "  \n",
        "  t = np.linspace(0, 1/w, 500, endpoint=False)\n",
        "  \n",
        "  if u == \"escalon\":\n",
        "    u = A*t\n",
        "  elif u == \"seno\":  \n",
        "    u = A*(np.sin(w*t))\n",
        "\n",
        "  tout, yout, xout = ss.lsim((H.num, H.den), U=u, T=t)\n",
        "  figure.plot(tout, yout)\n",
        "  figure.ylabel(\"out\")\n",
        "  figure.xlabel('time[sec]')\n",
        "  #plt.show()\n",
        "\n",
        "#H=ss.TransferFunction([1],[1,0])\n",
        "#filterImpulse(H, \"escalon\", 5, 3)"
      ],
      "execution_count": 31,
      "outputs": []
    },
    {
      "cell_type": "code",
      "metadata": {
        "id": "2Ymgsy2lDcLx"
      },
      "source": [
        "def plotZerosPoles(H, figure, ax):\n",
        "  zeros, poles = H.zeros, H.poles\n",
        "\n",
        "  #fig, ax = plt.subplots()\n",
        "  ax.scatter(np.real(zeros), np.imag(zeros), c=\"g\", marker=\"o\")\n",
        "  ax.scatter(np.real(poles), np.imag(poles), c=\"r\", marker=\"x\")\n",
        "\n",
        "  ax.set_xlabel(r'$\\sigma$', fontsize=15)\n",
        "  ax.set_ylabel(r'$jw$', fontsize=15)\n",
        "  ax.set_title('Gráfico Polos y Ceros')\n",
        "\n",
        "  ax.grid(True)\n",
        "  #plt.show()\n",
        "\n",
        "#plotZerosPoles(ss.TransferFunction([1, 1, 9], [1, 2 ,1]))"
      ],
      "execution_count": 32,
      "outputs": []
    },
    {
      "cell_type": "markdown",
      "metadata": {
        "id": "NWasyBRb0JNV"
      },
      "source": [
        "#Parte 1"
      ]
    },
    {
      "cell_type": "code",
      "metadata": {
        "colab": {
          "base_uri": "https://localhost:8080/",
          "height": 779
        },
        "id": "QdXqpWaIIsoi",
        "outputId": "6d8b9991-7366-43ad-d4c4-a0b50a1dad79"
      },
      "source": [
        "def filterSim (H_num, H_den, figure_scatter, ax_scatter, figure_bode, figure_impulse):\n",
        "  H=ss.TransferFunction(H_num,H_den)\n",
        "  plotZerosPoles(H, figure_scatter, ax_scatter)\n",
        "  filterImpulse(H, u, figure_impulse, w, A)\n",
        "  plotbode(figure_bode)\n",
        "\n",
        "\n",
        "num=[1]\n",
        "den=[1,0,1]\n",
        "fig1,ax1= plt.subplots()\n",
        "figuredb=plt.figure()\n",
        "figureimp=plt.figure()\n",
        "filterSim(H_num=[1],H_den=[1,0,1], figure_scatter=fig1, ax_scatter=ax1, figure_bode=figuredb, figure_impulse=figureimp)\n",
        "\n",
        "fig1.show()\n",
        "figuredb.show()\n",
        "figureimp.show()\n",
        "\n"
      ],
      "execution_count": 34,
      "outputs": [
        {
          "output_type": "stream",
          "text": [
            "/usr/local/lib/python3.7/dist-packages/ipykernel_launcher.py:5: FutureWarning: elementwise comparison failed; returning scalar instead, but in the future will perform elementwise comparison\n",
            "  \"\"\"\n",
            "/usr/local/lib/python3.7/dist-packages/ipykernel_launcher.py:7: FutureWarning: elementwise comparison failed; returning scalar instead, but in the future will perform elementwise comparison\n",
            "  import sys\n"
          ],
          "name": "stderr"
        },
        {
          "output_type": "error",
          "ename": "AttributeError",
          "evalue": "ignored",
          "traceback": [
            "\u001b[0;31m---------------------------------------------------------------------------\u001b[0m",
            "\u001b[0;31mAttributeError\u001b[0m                            Traceback (most recent call last)",
            "\u001b[0;32m<ipython-input-34-b06047e5a178>\u001b[0m in \u001b[0;36m<module>\u001b[0;34m()\u001b[0m\n\u001b[1;32m     11\u001b[0m \u001b[0mfiguredb\u001b[0m\u001b[0;34m=\u001b[0m\u001b[0mplt\u001b[0m\u001b[0;34m.\u001b[0m\u001b[0mfigure\u001b[0m\u001b[0;34m(\u001b[0m\u001b[0;34m)\u001b[0m\u001b[0;34m\u001b[0m\u001b[0;34m\u001b[0m\u001b[0m\n\u001b[1;32m     12\u001b[0m \u001b[0mfigureimp\u001b[0m\u001b[0;34m=\u001b[0m\u001b[0mplt\u001b[0m\u001b[0;34m.\u001b[0m\u001b[0mfigure\u001b[0m\u001b[0;34m(\u001b[0m\u001b[0;34m)\u001b[0m\u001b[0;34m\u001b[0m\u001b[0;34m\u001b[0m\u001b[0m\n\u001b[0;32m---> 13\u001b[0;31m \u001b[0mfilterSim\u001b[0m\u001b[0;34m(\u001b[0m\u001b[0mH_num\u001b[0m\u001b[0;34m=\u001b[0m\u001b[0;34m[\u001b[0m\u001b[0;36m1\u001b[0m\u001b[0;34m]\u001b[0m\u001b[0;34m,\u001b[0m\u001b[0mH_den\u001b[0m\u001b[0;34m=\u001b[0m\u001b[0;34m[\u001b[0m\u001b[0;36m1\u001b[0m\u001b[0;34m,\u001b[0m\u001b[0;36m0\u001b[0m\u001b[0;34m,\u001b[0m\u001b[0;36m1\u001b[0m\u001b[0;34m]\u001b[0m\u001b[0;34m,\u001b[0m \u001b[0mfigure_scatter\u001b[0m\u001b[0;34m=\u001b[0m\u001b[0mfig1\u001b[0m\u001b[0;34m,\u001b[0m \u001b[0max_scatter\u001b[0m\u001b[0;34m=\u001b[0m\u001b[0max1\u001b[0m\u001b[0;34m,\u001b[0m \u001b[0mfigure_bode\u001b[0m\u001b[0;34m=\u001b[0m\u001b[0mfiguredb\u001b[0m\u001b[0;34m,\u001b[0m \u001b[0mfigure_impulse\u001b[0m\u001b[0;34m=\u001b[0m\u001b[0mfigureimp\u001b[0m\u001b[0;34m)\u001b[0m\u001b[0;34m\u001b[0m\u001b[0;34m\u001b[0m\u001b[0m\n\u001b[0m\u001b[1;32m     14\u001b[0m \u001b[0;34m\u001b[0m\u001b[0m\n\u001b[1;32m     15\u001b[0m \u001b[0mfig1\u001b[0m\u001b[0;34m.\u001b[0m\u001b[0mshow\u001b[0m\u001b[0;34m(\u001b[0m\u001b[0;34m)\u001b[0m\u001b[0;34m\u001b[0m\u001b[0;34m\u001b[0m\u001b[0m\n",
            "\u001b[0;32m<ipython-input-34-b06047e5a178>\u001b[0m in \u001b[0;36mfilterSim\u001b[0;34m(H_num, H_den, figure_scatter, ax_scatter, figure_bode, figure_impulse)\u001b[0m\n\u001b[1;32m      2\u001b[0m   \u001b[0mH\u001b[0m\u001b[0;34m=\u001b[0m\u001b[0mss\u001b[0m\u001b[0;34m.\u001b[0m\u001b[0mTransferFunction\u001b[0m\u001b[0;34m(\u001b[0m\u001b[0mH_num\u001b[0m\u001b[0;34m,\u001b[0m\u001b[0mH_den\u001b[0m\u001b[0;34m)\u001b[0m\u001b[0;34m\u001b[0m\u001b[0;34m\u001b[0m\u001b[0m\n\u001b[1;32m      3\u001b[0m   \u001b[0mplotZerosPoles\u001b[0m\u001b[0;34m(\u001b[0m\u001b[0mH\u001b[0m\u001b[0;34m,\u001b[0m \u001b[0mfigure_scatter\u001b[0m\u001b[0;34m,\u001b[0m \u001b[0max_scatter\u001b[0m\u001b[0;34m)\u001b[0m\u001b[0;34m\u001b[0m\u001b[0;34m\u001b[0m\u001b[0m\n\u001b[0;32m----> 4\u001b[0;31m   \u001b[0mfilterImpulse\u001b[0m\u001b[0;34m(\u001b[0m\u001b[0mH\u001b[0m\u001b[0;34m,\u001b[0m \u001b[0mu\u001b[0m\u001b[0;34m,\u001b[0m \u001b[0mfigure_impulse\u001b[0m\u001b[0;34m,\u001b[0m \u001b[0mA\u001b[0m\u001b[0;34m,\u001b[0m \u001b[0mw\u001b[0m\u001b[0;34m)\u001b[0m\u001b[0;34m\u001b[0m\u001b[0;34m\u001b[0m\u001b[0m\n\u001b[0m\u001b[1;32m      5\u001b[0m   \u001b[0mplotbode\u001b[0m\u001b[0;34m(\u001b[0m\u001b[0mfigure_bode\u001b[0m\u001b[0;34m)\u001b[0m\u001b[0;34m\u001b[0m\u001b[0;34m\u001b[0m\u001b[0m\n\u001b[1;32m      6\u001b[0m \u001b[0;34m\u001b[0m\u001b[0m\n",
            "\u001b[0;32m<ipython-input-31-d9c2ece34a13>\u001b[0m in \u001b[0;36mfilterImpulse\u001b[0;34m(H, u, figure, w, A)\u001b[0m\n\u001b[1;32m      9\u001b[0m \u001b[0;34m\u001b[0m\u001b[0m\n\u001b[1;32m     10\u001b[0m   \u001b[0mtout\u001b[0m\u001b[0;34m,\u001b[0m \u001b[0myout\u001b[0m\u001b[0;34m,\u001b[0m \u001b[0mxout\u001b[0m \u001b[0;34m=\u001b[0m \u001b[0mss\u001b[0m\u001b[0;34m.\u001b[0m\u001b[0mlsim\u001b[0m\u001b[0;34m(\u001b[0m\u001b[0;34m(\u001b[0m\u001b[0mH\u001b[0m\u001b[0;34m.\u001b[0m\u001b[0mnum\u001b[0m\u001b[0;34m,\u001b[0m \u001b[0mH\u001b[0m\u001b[0;34m.\u001b[0m\u001b[0mden\u001b[0m\u001b[0;34m)\u001b[0m\u001b[0;34m,\u001b[0m \u001b[0mU\u001b[0m\u001b[0;34m=\u001b[0m\u001b[0mu\u001b[0m\u001b[0;34m,\u001b[0m \u001b[0mT\u001b[0m\u001b[0;34m=\u001b[0m\u001b[0mt\u001b[0m\u001b[0;34m)\u001b[0m\u001b[0;34m\u001b[0m\u001b[0;34m\u001b[0m\u001b[0m\n\u001b[0;32m---> 11\u001b[0;31m   \u001b[0mfigure\u001b[0m\u001b[0;34m.\u001b[0m\u001b[0mplot\u001b[0m\u001b[0;34m(\u001b[0m\u001b[0mtout\u001b[0m\u001b[0;34m,\u001b[0m \u001b[0myout\u001b[0m\u001b[0;34m)\u001b[0m\u001b[0;34m\u001b[0m\u001b[0;34m\u001b[0m\u001b[0m\n\u001b[0m\u001b[1;32m     12\u001b[0m   \u001b[0mfigure\u001b[0m\u001b[0;34m.\u001b[0m\u001b[0mylabel\u001b[0m\u001b[0;34m(\u001b[0m\u001b[0;34m\"out\"\u001b[0m\u001b[0;34m)\u001b[0m\u001b[0;34m\u001b[0m\u001b[0;34m\u001b[0m\u001b[0m\n\u001b[1;32m     13\u001b[0m   \u001b[0mfigure\u001b[0m\u001b[0;34m.\u001b[0m\u001b[0mxlabel\u001b[0m\u001b[0;34m(\u001b[0m\u001b[0;34m'time[sec]'\u001b[0m\u001b[0;34m)\u001b[0m\u001b[0;34m\u001b[0m\u001b[0;34m\u001b[0m\u001b[0m\n",
            "\u001b[0;31mAttributeError\u001b[0m: 'Figure' object has no attribute 'plot'"
          ]
        },
        {
          "output_type": "display_data",
          "data": {
            "image/png": "[encoded data removed]",
            "text/plain": [
              "<Figure size 432x288 with 1 Axes>"
            ]
          },
          "metadata": {
            "tags": [],
            "needs_background": "light"
          }
        },
        {
          "output_type": "display_data",
          "data": {
            "text/plain": [
              "<Figure size 432x288 with 0 Axes>"
            ]
          },
          "metadata": {
            "tags": []
          }
        },
        {
          "output_type": "display_data",
          "data": {
            "text/plain": [
              "<Figure size 432x288 with 0 Axes>"
            ]
          },
          "metadata": {
            "tags": []
          }
        }
      ]
    },
    {
      "cell_type": "markdown",
      "metadata": {
        "id": "TABWSsOm0G3W"
      },
      "source": [
        "# Parte 2"
      ]
    },
    {
      "cell_type": "code",
      "metadata": {
        "id": "bHRR2uxUX90j"
      },
      "source": [
        "# Segunda Parte\n",
        "def sumTransfer(a, b):\n",
        "    return  [ np.polyadd( np.polymul( a[0], b[1] ), np.polymul( b[0], a[1] ) ), np.polymul(a[1], b[1]) ]\n",
        "\n",
        "def RLCSim(punta1=1 , punta2=2, R=0, L=0, C=0):\n",
        "    \n",
        "    # H_base = s*C/(s^2LC+sCR+1)\n",
        "    # Z = s^2*L + s*R + 1/C\n",
        "\n",
        "    H_base = [ [ C, 0 ],[ L*C, R*C, 1 ] ]\n",
        "    \n",
        "    H_R = [ [ R ]   ,    [ 1 ] ]\n",
        "    H_L = [ [ L, 0 ],    [ 1 ] ]\n",
        "    H_C = [ [ 1 ]   , [ C, 0 ] ]\n",
        "    \n",
        "    # Setear H_2 en base a las puntas\n",
        "    H_2 = [ [ 0 ], [ 1 ] ]\n",
        "\n",
        "    puntaMin = min(punta1, punta2)\n",
        "    puntaMax = max(punta1, punta2)\n",
        "\n",
        "    tipRange = range(puntaMin, puntaMax+1)\n",
        "\n",
        "    if (all(node in tipRange for node in [1,2])):           # Resistencia\n",
        "        H_2 = sumTransfer(H_2, H_R)\n",
        "\n",
        "    if (all(node in tipRange for node in [2,3])):           # Inductor\n",
        "        H_2 = sumTransfer(H_2, H_L)\n",
        "\n",
        "    if (all(node in tipRange for node in [3,4])):           # Capacitor\n",
        "        H_2 = sumTransfer(H_2, H_C)\n",
        "\n",
        "    if (puntaMin != punta1):                                # Las pinzas estan invertidas?\n",
        "        H_2[0] = np.polymul(H_2[0],-1)\n",
        "\n",
        "    H = ss.TransferFunction(np.polymul(H_base[0], H_2[0]), np.polymul(H_base[1], H_2[1]))\n",
        "    \n",
        "    if (np.array_equal(H.num, H.den)):  # Se rompe si H=1\n",
        "      H = ss.TransferFunction([1], [1])\n",
        "      \n",
        "    plotbode(H)\n",
        "\n",
        "RLCSim(2, 4, 10, 10E-3, 10E-6)"
      ],
      "execution_count": null,
      "outputs": []
    }
  ]
}